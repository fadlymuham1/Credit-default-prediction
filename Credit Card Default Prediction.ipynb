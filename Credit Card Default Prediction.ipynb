{
 "cells": [
  {
   "cell_type": "markdown",
   "id": "express-oxygen",
   "metadata": {},
   "source": [
    "## Data Set Information:\n",
    "This data record historical data of credit card customers as well as the label  if they were default or not. Each customers have several information attributes related to their credit card usage spanning 6 months back before default as well as the payments data.\n",
    "\n",
    "## Objective Information:\n",
    "1. Create the predictive Model to predict probability of default on  credit card customers\n",
    "\n",
    "\n",
    "\n",
    "\n",
    "## Another note\n",
    "The analysis was made as part of final assessment at DibimbingID Data Science Course"
   ]
  },
  {
   "cell_type": "code",
   "execution_count": 1,
   "id": "swedish-drilling",
   "metadata": {},
   "outputs": [],
   "source": [
    "#import important libary\n",
    "import pandas as pd\n",
    "import numpy as np\n",
    "import matplotlib as plt\n",
    "import re"
   ]
  },
  {
   "cell_type": "code",
   "execution_count": 2,
   "id": "reflected-blackjack",
   "metadata": {},
   "outputs": [],
   "source": [
    "#import dataset\n",
    "data = pd.read_csv('creditscoring_finalproject.csv')"
   ]
  },
  {
   "cell_type": "code",
   "execution_count": 3,
   "id": "bigger-vehicle",
   "metadata": {},
   "outputs": [],
   "source": [
    "# set unlimited column display - personal preference\n",
    "pd.set_option('display.max_columns', None)"
   ]
  },
  {
   "cell_type": "code",
   "execution_count": 4,
   "id": "2748431a-d3a1-47cd-88ca-d44a5f92c2bb",
   "metadata": {},
   "outputs": [
    {
     "data": {
      "text/html": [
       "<div>\n",
       "<style scoped>\n",
       "    .dataframe tbody tr th:only-of-type {\n",
       "        vertical-align: middle;\n",
       "    }\n",
       "\n",
       "    .dataframe tbody tr th {\n",
       "        vertical-align: top;\n",
       "    }\n",
       "\n",
       "    .dataframe thead th {\n",
       "        text-align: right;\n",
       "    }\n",
       "</style>\n",
       "<table border=\"1\" class=\"dataframe\">\n",
       "  <thead>\n",
       "    <tr style=\"text-align: right;\">\n",
       "      <th></th>\n",
       "      <th>X</th>\n",
       "      <th>jumlah_kartu</th>\n",
       "      <th>outstanding</th>\n",
       "      <th>limit_kredit</th>\n",
       "      <th>tagihan</th>\n",
       "      <th>total_pemakaian_tunai</th>\n",
       "      <th>total_pemakaian_retail</th>\n",
       "      <th>sisa_tagihan_tidak_terbayar</th>\n",
       "      <th>kode_cabang</th>\n",
       "      <th>rasio_pembayaran</th>\n",
       "      <th>persentasi_overlimit</th>\n",
       "      <th>rasio_pembayaran_3bulan</th>\n",
       "      <th>rasio_pembayaran_6bulan</th>\n",
       "      <th>skor_delikuensi</th>\n",
       "      <th>flag_kredit_macet</th>\n",
       "      <th>jumlah_tahun_sejak_pembukaan_kredit</th>\n",
       "      <th>total_pemakaian</th>\n",
       "      <th>sisa_tagihan_per_jumlah_kartu</th>\n",
       "      <th>sisa_tagihan_per_limit</th>\n",
       "      <th>total_pemakaian_per_limit</th>\n",
       "      <th>pemakaian_3bln_per_limit</th>\n",
       "      <th>pemakaian_6bln_per_limit</th>\n",
       "      <th>utilisasi_3bulan</th>\n",
       "      <th>utilisasi_6bulan</th>\n",
       "    </tr>\n",
       "  </thead>\n",
       "  <tbody>\n",
       "    <tr>\n",
       "      <th>0</th>\n",
       "      <td>1</td>\n",
       "      <td>2</td>\n",
       "      <td>36158</td>\n",
       "      <td>7,00E+06</td>\n",
       "      <td>23437</td>\n",
       "      <td>0</td>\n",
       "      <td>94</td>\n",
       "      <td>26323</td>\n",
       "      <td>I</td>\n",
       "      <td>102,19</td>\n",
       "      <td>0</td>\n",
       "      <td>74,78</td>\n",
       "      <td>100</td>\n",
       "      <td>0</td>\n",
       "      <td>0</td>\n",
       "      <td>1,541,666,667</td>\n",
       "      <td>94</td>\n",
       "      <td>13161,5</td>\n",
       "      <td>3,760,429</td>\n",
       "      <td>1,34E-05</td>\n",
       "      <td>1,171,875</td>\n",
       "      <td>17,809,524</td>\n",
       "      <td>13,228,036</td>\n",
       "      <td>21,949,333</td>\n",
       "    </tr>\n",
       "    <tr>\n",
       "      <th>1</th>\n",
       "      <td>2</td>\n",
       "      <td>2</td>\n",
       "      <td>268691</td>\n",
       "      <td>1,00E+07</td>\n",
       "      <td>254564</td>\n",
       "      <td>0</td>\n",
       "      <td>1012</td>\n",
       "      <td>0</td>\n",
       "      <td>A</td>\n",
       "      <td>0</td>\n",
       "      <td>0</td>\n",
       "      <td>0</td>\n",
       "      <td>0</td>\n",
       "      <td>0</td>\n",
       "      <td>0</td>\n",
       "      <td>0,75</td>\n",
       "      <td>1012</td>\n",
       "      <td>0</td>\n",
       "      <td>0</td>\n",
       "      <td>1,012</td>\n",
       "      <td>0</td>\n",
       "      <td>0</td>\n",
       "      <td>4,231,625</td>\n",
       "      <td>3,00E-04</td>\n",
       "    </tr>\n",
       "    <tr>\n",
       "      <th>2</th>\n",
       "      <td>3</td>\n",
       "      <td>3</td>\n",
       "      <td>6769149</td>\n",
       "      <td>2,80E+07</td>\n",
       "      <td>4159779</td>\n",
       "      <td>0</td>\n",
       "      <td>0</td>\n",
       "      <td>0</td>\n",
       "      <td>A</td>\n",
       "      <td>100</td>\n",
       "      <td>0</td>\n",
       "      <td>100</td>\n",
       "      <td>100,91</td>\n",
       "      <td>0</td>\n",
       "      <td>0</td>\n",
       "      <td>10,75</td>\n",
       "      <td>0</td>\n",
       "      <td>0</td>\n",
       "      <td>0</td>\n",
       "      <td>0</td>\n",
       "      <td>40,517,857</td>\n",
       "      <td>47,703,226</td>\n",
       "      <td>249,389,277</td>\n",
       "      <td>267,852,798</td>\n",
       "    </tr>\n",
       "    <tr>\n",
       "      <th>3</th>\n",
       "      <td>4</td>\n",
       "      <td>4</td>\n",
       "      <td>3496732</td>\n",
       "      <td>2,10E+07</td>\n",
       "      <td>111231</td>\n",
       "      <td>0</td>\n",
       "      <td>2536660</td>\n",
       "      <td>581334</td>\n",
       "      <td>G</td>\n",
       "      <td>100</td>\n",
       "      <td>0</td>\n",
       "      <td>25,01</td>\n",
       "      <td>22,64</td>\n",
       "      <td>0</td>\n",
       "      <td>0</td>\n",
       "      <td>19,75</td>\n",
       "      <td>2536660</td>\n",
       "      <td>145333,5</td>\n",
       "      <td>27,682,571</td>\n",
       "      <td>120,793,333</td>\n",
       "      <td>55,970,595</td>\n",
       "      <td>16,850,794</td>\n",
       "      <td>101,912,107</td>\n",
       "      <td>346,634,603</td>\n",
       "    </tr>\n",
       "    <tr>\n",
       "      <th>4</th>\n",
       "      <td>5</td>\n",
       "      <td>2</td>\n",
       "      <td>9402085</td>\n",
       "      <td>1,00E+07</td>\n",
       "      <td>6099283</td>\n",
       "      <td>0</td>\n",
       "      <td>2666558</td>\n",
       "      <td>5951865</td>\n",
       "      <td>A</td>\n",
       "      <td>95,99</td>\n",
       "      <td>0</td>\n",
       "      <td>97,49</td>\n",
       "      <td>99,84</td>\n",
       "      <td>0</td>\n",
       "      <td>0</td>\n",
       "      <td>1,666,666,667</td>\n",
       "      <td>2666558</td>\n",
       "      <td>2975932,5</td>\n",
       "      <td>5,951,865</td>\n",
       "      <td>2,666,558</td>\n",
       "      <td>323,027</td>\n",
       "      <td>131,162,467</td>\n",
       "      <td>707,865,025</td>\n",
       "      <td>336,571,367</td>\n",
       "    </tr>\n",
       "    <tr>\n",
       "      <th>5</th>\n",
       "      <td>6</td>\n",
       "      <td>2</td>\n",
       "      <td>6227439</td>\n",
       "      <td>8,00E+07</td>\n",
       "      <td>2081248</td>\n",
       "      <td>0</td>\n",
       "      <td>3690250</td>\n",
       "      <td>4613435</td>\n",
       "      <td>A</td>\n",
       "      <td>0</td>\n",
       "      <td>0</td>\n",
       "      <td>28,46</td>\n",
       "      <td>42,03</td>\n",
       "      <td>0</td>\n",
       "      <td>0</td>\n",
       "      <td>10,25</td>\n",
       "      <td>3690250</td>\n",
       "      <td>2306717,5</td>\n",
       "      <td>57,667,938</td>\n",
       "      <td>46,128,125</td>\n",
       "      <td>17,184,375</td>\n",
       "      <td>117,513,096</td>\n",
       "      <td>38,963,606</td>\n",
       "      <td>181,863,421</td>\n",
       "    </tr>\n",
       "    <tr>\n",
       "      <th>6</th>\n",
       "      <td>7</td>\n",
       "      <td>2</td>\n",
       "      <td>3906290</td>\n",
       "      <td>4,00E+06</td>\n",
       "      <td>2043682</td>\n",
       "      <td>0</td>\n",
       "      <td>230400</td>\n",
       "      <td>3314046</td>\n",
       "      <td>A</td>\n",
       "      <td>18,47</td>\n",
       "      <td>0</td>\n",
       "      <td>24,95</td>\n",
       "      <td>17,89</td>\n",
       "      <td>0</td>\n",
       "      <td>0</td>\n",
       "      <td>4,666,666,667</td>\n",
       "      <td>230400</td>\n",
       "      <td>1657023</td>\n",
       "      <td>8,285,115</td>\n",
       "      <td>576</td>\n",
       "      <td>1,875</td>\n",
       "      <td>166,666,668</td>\n",
       "      <td>1,014,775,813</td>\n",
       "      <td>977,230,833</td>\n",
       "    </tr>\n",
       "    <tr>\n",
       "      <th>7</th>\n",
       "      <td>8</td>\n",
       "      <td>4</td>\n",
       "      <td>9534837</td>\n",
       "      <td>2,00E+07</td>\n",
       "      <td>3692028</td>\n",
       "      <td>0</td>\n",
       "      <td>9327612</td>\n",
       "      <td>7881069</td>\n",
       "      <td>A</td>\n",
       "      <td>58,55</td>\n",
       "      <td>0</td>\n",
       "      <td>105,24</td>\n",
       "      <td>166,67</td>\n",
       "      <td>0</td>\n",
       "      <td>0</td>\n",
       "      <td>0,75</td>\n",
       "      <td>9327612</td>\n",
       "      <td>1970267,25</td>\n",
       "      <td>39,405,345</td>\n",
       "      <td>4,663,806</td>\n",
       "      <td>2,392,893</td>\n",
       "      <td>241,598,694</td>\n",
       "      <td>261,753,338</td>\n",
       "      <td>22,402,625</td>\n",
       "    </tr>\n",
       "    <tr>\n",
       "      <th>8</th>\n",
       "      <td>9</td>\n",
       "      <td>2</td>\n",
       "      <td>4145065</td>\n",
       "      <td>5,00E+06</td>\n",
       "      <td>4021399</td>\n",
       "      <td>0</td>\n",
       "      <td>335680</td>\n",
       "      <td>4122425</td>\n",
       "      <td>B</td>\n",
       "      <td>15,24</td>\n",
       "      <td>0</td>\n",
       "      <td>0</td>\n",
       "      <td>33,33</td>\n",
       "      <td>0</td>\n",
       "      <td>0</td>\n",
       "      <td>5,666,666,667</td>\n",
       "      <td>335680</td>\n",
       "      <td>2061212,5</td>\n",
       "      <td>824,485</td>\n",
       "      <td>67,136</td>\n",
       "      <td>19,604,205</td>\n",
       "      <td>0</td>\n",
       "      <td>47,002,435</td>\n",
       "      <td>0</td>\n",
       "    </tr>\n",
       "    <tr>\n",
       "      <th>9</th>\n",
       "      <td>10</td>\n",
       "      <td>4</td>\n",
       "      <td>1818606</td>\n",
       "      <td>7,00E+06</td>\n",
       "      <td>1765911</td>\n",
       "      <td>0</td>\n",
       "      <td>0</td>\n",
       "      <td>1627786</td>\n",
       "      <td>A</td>\n",
       "      <td>100</td>\n",
       "      <td>0</td>\n",
       "      <td>58,4</td>\n",
       "      <td>62,68</td>\n",
       "      <td>0</td>\n",
       "      <td>0</td>\n",
       "      <td>8,5</td>\n",
       "      <td>0</td>\n",
       "      <td>406946,5</td>\n",
       "      <td>232,540,857</td>\n",
       "      <td>0</td>\n",
       "      <td>75</td>\n",
       "      <td>94,800,619</td>\n",
       "      <td>315,145,179</td>\n",
       "      <td>626,447,904</td>\n",
       "    </tr>\n",
       "  </tbody>\n",
       "</table>\n",
       "</div>"
      ],
      "text/plain": [
       "    X  jumlah_kartu  outstanding limit_kredit  tagihan total_pemakaian_tunai  \\\n",
       "0   1             2        36158     7,00E+06    23437                     0   \n",
       "1   2             2       268691     1,00E+07   254564                     0   \n",
       "2   3             3      6769149     2,80E+07  4159779                     0   \n",
       "3   4             4      3496732     2,10E+07   111231                     0   \n",
       "4   5             2      9402085     1,00E+07  6099283                     0   \n",
       "5   6             2      6227439     8,00E+07  2081248                     0   \n",
       "6   7             2      3906290     4,00E+06  2043682                     0   \n",
       "7   8             4      9534837     2,00E+07  3692028                     0   \n",
       "8   9             2      4145065     5,00E+06  4021399                     0   \n",
       "9  10             4      1818606     7,00E+06  1765911                     0   \n",
       "\n",
       "  total_pemakaian_retail sisa_tagihan_tidak_terbayar kode_cabang  \\\n",
       "0                     94                       26323           I   \n",
       "1                   1012                           0           A   \n",
       "2                      0                           0           A   \n",
       "3                2536660                      581334           G   \n",
       "4                2666558                     5951865           A   \n",
       "5                3690250                     4613435           A   \n",
       "6                 230400                     3314046           A   \n",
       "7                9327612                     7881069           A   \n",
       "8                 335680                     4122425           B   \n",
       "9                      0                     1627786           A   \n",
       "\n",
       "  rasio_pembayaran persentasi_overlimit rasio_pembayaran_3bulan  \\\n",
       "0           102,19                    0                   74,78   \n",
       "1                0                    0                       0   \n",
       "2              100                    0                     100   \n",
       "3              100                    0                   25,01   \n",
       "4            95,99                    0                   97,49   \n",
       "5                0                    0                   28,46   \n",
       "6            18,47                    0                   24,95   \n",
       "7            58,55                    0                  105,24   \n",
       "8            15,24                    0                       0   \n",
       "9              100                    0                    58,4   \n",
       "\n",
       "  rasio_pembayaran_6bulan  skor_delikuensi  flag_kredit_macet  \\\n",
       "0                     100                0                  0   \n",
       "1                       0                0                  0   \n",
       "2                  100,91                0                  0   \n",
       "3                   22,64                0                  0   \n",
       "4                   99,84                0                  0   \n",
       "5                   42,03                0                  0   \n",
       "6                   17,89                0                  0   \n",
       "7                  166,67                0                  0   \n",
       "8                   33,33                0                  0   \n",
       "9                   62,68                0                  0   \n",
       "\n",
       "  jumlah_tahun_sejak_pembukaan_kredit total_pemakaian  \\\n",
       "0                       1,541,666,667              94   \n",
       "1                                0,75            1012   \n",
       "2                               10,75               0   \n",
       "3                               19,75         2536660   \n",
       "4                       1,666,666,667         2666558   \n",
       "5                               10,25         3690250   \n",
       "6                       4,666,666,667          230400   \n",
       "7                                0,75         9327612   \n",
       "8                       5,666,666,667          335680   \n",
       "9                                 8,5               0   \n",
       "\n",
       "  sisa_tagihan_per_jumlah_kartu sisa_tagihan_per_limit  \\\n",
       "0                       13161,5              3,760,429   \n",
       "1                             0                      0   \n",
       "2                             0                      0   \n",
       "3                      145333,5             27,682,571   \n",
       "4                     2975932,5              5,951,865   \n",
       "5                     2306717,5             57,667,938   \n",
       "6                       1657023              8,285,115   \n",
       "7                    1970267,25             39,405,345   \n",
       "8                     2061212,5                824,485   \n",
       "9                      406946,5            232,540,857   \n",
       "\n",
       "  total_pemakaian_per_limit pemakaian_3bln_per_limit pemakaian_6bln_per_limit  \\\n",
       "0                  1,34E-05                1,171,875               17,809,524   \n",
       "1                     1,012                        0                        0   \n",
       "2                         0               40,517,857               47,703,226   \n",
       "3               120,793,333               55,970,595               16,850,794   \n",
       "4                 2,666,558                  323,027              131,162,467   \n",
       "5                46,128,125               17,184,375              117,513,096   \n",
       "6                       576                    1,875              166,666,668   \n",
       "7                 4,663,806                2,392,893              241,598,694   \n",
       "8                    67,136               19,604,205                        0   \n",
       "9                         0                       75               94,800,619   \n",
       "\n",
       "  utilisasi_3bulan utilisasi_6bulan  \n",
       "0       13,228,036       21,949,333  \n",
       "1        4,231,625         3,00E-04  \n",
       "2      249,389,277      267,852,798  \n",
       "3      101,912,107      346,634,603  \n",
       "4      707,865,025      336,571,367  \n",
       "5       38,963,606      181,863,421  \n",
       "6    1,014,775,813      977,230,833  \n",
       "7      261,753,338       22,402,625  \n",
       "8       47,002,435                0  \n",
       "9      315,145,179      626,447,904  "
      ]
     },
     "execution_count": 4,
     "metadata": {},
     "output_type": "execute_result"
    }
   ],
   "source": [
    "#inspect data set\n",
    "data.head(10)"
   ]
  },
  {
   "cell_type": "markdown",
   "id": "b0d5fb51-26cc-493d-b140-7167b90c0855",
   "metadata": {},
   "source": [
    "Colums that are considered as irrelevant are :\n",
    "    \n",
    "    1. 'X' : Same with Index\n",
    "    \n",
    "    2. 'kode_cabang' : are not transaction / usage related data\n",
    "    \n",
    "    "
   ]
  },
  {
   "cell_type": "code",
   "execution_count": 5,
   "id": "alternate-classic",
   "metadata": {},
   "outputs": [
    {
     "name": "stdout",
     "output_type": "stream",
     "text": [
      "<class 'pandas.core.frame.DataFrame'>\n",
      "RangeIndex: 15493 entries, 0 to 15492\n",
      "Data columns (total 24 columns):\n",
      " #   Column                               Non-Null Count  Dtype \n",
      "---  ------                               --------------  ----- \n",
      " 0   X                                    15493 non-null  int64 \n",
      " 1   jumlah_kartu                         15493 non-null  int64 \n",
      " 2   outstanding                          15493 non-null  int64 \n",
      " 3   limit_kredit                         15493 non-null  object\n",
      " 4   tagihan                              15493 non-null  object\n",
      " 5   total_pemakaian_tunai                15493 non-null  object\n",
      " 6   total_pemakaian_retail               15493 non-null  object\n",
      " 7   sisa_tagihan_tidak_terbayar          15493 non-null  object\n",
      " 8   kode_cabang                          15393 non-null  object\n",
      " 9   rasio_pembayaran                     15493 non-null  object\n",
      " 10  persentasi_overlimit                 15493 non-null  object\n",
      " 11  rasio_pembayaran_3bulan              15493 non-null  object\n",
      " 12  rasio_pembayaran_6bulan              15493 non-null  object\n",
      " 13  skor_delikuensi                      15493 non-null  int64 \n",
      " 14  flag_kredit_macet                    15493 non-null  int64 \n",
      " 15  jumlah_tahun_sejak_pembukaan_kredit  15493 non-null  object\n",
      " 16  total_pemakaian                      15493 non-null  object\n",
      " 17  sisa_tagihan_per_jumlah_kartu        15493 non-null  object\n",
      " 18  sisa_tagihan_per_limit               15493 non-null  object\n",
      " 19  total_pemakaian_per_limit            15493 non-null  object\n",
      " 20  pemakaian_3bln_per_limit             15493 non-null  object\n",
      " 21  pemakaian_6bln_per_limit             15493 non-null  object\n",
      " 22  utilisasi_3bulan                     15493 non-null  object\n",
      " 23  utilisasi_6bulan                     15493 non-null  object\n",
      "dtypes: int64(5), object(19)\n",
      "memory usage: 2.8+ MB\n",
      "None\n"
     ]
    }
   ],
   "source": [
    "#inspect dataset columns type and row count\n",
    "print(data.info())"
   ]
  },
  {
   "cell_type": "code",
   "execution_count": 6,
   "id": "14bbeed7-fd0c-4740-9444-e62403262952",
   "metadata": {},
   "outputs": [
    {
     "data": {
      "text/plain": [
       "array([0, 1])"
      ]
     },
     "execution_count": 6,
     "metadata": {},
     "output_type": "execute_result"
    }
   ],
   "source": [
    "#Identify target variable\n",
    "data['flag_kredit_macet'].unique()"
   ]
  },
  {
   "cell_type": "markdown",
   "id": "c39b0dc7-9e1f-4d21-aa34-071b93efc83c",
   "metadata": {},
   "source": [
    "flag_kredit_macet is assumed to be target variable as it contains two unique values ( 0 or 1). Based on\n",
    "\n",
    "domain knowledge, '1' is considered default flag"
   ]
  },
  {
   "cell_type": "code",
   "execution_count": 7,
   "id": "controlled-domestic",
   "metadata": {},
   "outputs": [
    {
     "data": {
      "text/plain": [
       "X                                        0\n",
       "jumlah_kartu                             0\n",
       "outstanding                              0\n",
       "limit_kredit                             0\n",
       "tagihan                                  0\n",
       "total_pemakaian_tunai                    0\n",
       "total_pemakaian_retail                   0\n",
       "sisa_tagihan_tidak_terbayar              0\n",
       "kode_cabang                            100\n",
       "rasio_pembayaran                         0\n",
       "persentasi_overlimit                     0\n",
       "rasio_pembayaran_3bulan                  0\n",
       "rasio_pembayaran_6bulan                  0\n",
       "skor_delikuensi                          0\n",
       "flag_kredit_macet                        0\n",
       "jumlah_tahun_sejak_pembukaan_kredit      0\n",
       "total_pemakaian                          0\n",
       "sisa_tagihan_per_jumlah_kartu            0\n",
       "sisa_tagihan_per_limit                   0\n",
       "total_pemakaian_per_limit                0\n",
       "pemakaian_3bln_per_limit                 0\n",
       "pemakaian_6bln_per_limit                 0\n",
       "utilisasi_3bulan                         0\n",
       "utilisasi_6bulan                         0\n",
       "dtype: int64"
      ]
     },
     "execution_count": 7,
     "metadata": {},
     "output_type": "execute_result"
    }
   ],
   "source": [
    "#check if there any missing values\n",
    "data.isnull().sum()"
   ]
  },
  {
   "cell_type": "markdown",
   "id": "8bfc4078-55c6-447f-bd7a-42398eda33be",
   "metadata": {},
   "source": [
    "There are 100 missing values of Kode Cabang column. But as mention before, it will not be used then no treatment"
   ]
  },
  {
   "cell_type": "code",
   "execution_count": 8,
   "id": "a5a8e1ae-effd-4330-a6a4-0ecc81d6fb64",
   "metadata": {},
   "outputs": [
    {
     "name": "stdout",
     "output_type": "stream",
     "text": [
      "['7,00E+06' '1,00E+07' '2,80E+07' '2,10E+07' '8,00E+07' '4,00E+06'\n",
      " '2,00E+07' '5,00E+06' '8,40E+07' '2,30E+07' '9,00E+06' '3,00E+06'\n",
      " '1,00E+08' '1,30E+07' '1,80E+07' '7,50E+07' '8,00E+06' '1,20E+07'\n",
      " '6,00E+06' '5,00E+07' '8,90E+07' '5,90E+07' '3,00E+07' '4,00E+07'\n",
      " '1,50E+07' '2,50E+07' '6,60E+07' '6,20E+07' '3,90E+07' '5,20E+07'\n",
      " '4,10E+07' '2,70E+07' '5,60E+07' '6,80E+07' '4,80E+07' '5,70E+07'\n",
      " '5,80E+07' '3,60E+07' '5,10E+07' '7,80E+07' '1,60E+07' '7,10E+07'\n",
      " '8,70E+07' '9,70E+07' '2,20E+07' '4,30E+07' '4,50E+07' '3,80E+07'\n",
      " '3,50E+07' '4,60E+07' '9,10E+07' '2,40E+07' '4,90E+07' '1,90E+07'\n",
      " '1,40E+07' '7,00E+07' '2,90E+07' '6,30E+07' '1,70E+07' '1,11E+08'\n",
      " '6,50E+07' '7500000' '6,00E+07' '8,10E+07' '9,30E+07' '4,70E+07'\n",
      " '1,10E+07' '4,40E+07' '8,50E+07' '4,20E+07' '5,50E+07' '2,60E+07'\n",
      " '7,30E+07' '1,20E+08' '7,70E+07' '8,20E+07' '7,90E+07' '9,90E+07'\n",
      " '6,40E+07' '8,30E+07' '1,19E+08' '1,14E+08' '6,10E+07' '2,00E+08'\n",
      " '7,20E+07' '3,30E+07' '9,00E+07' '5,40E+07' '9,50E+07' '3,40E+07'\n",
      " '9,40E+07' '9,60E+07' '3,70E+07' '9,20E+07' '1,27E+08' '1,80E+08'\n",
      " '1,35E+08' '1,50E+08' '1,10E+08' '7,60E+07' '3,20E+07' '8,80E+07'\n",
      " '9500000' '1,17E+08' '4500000' '2,50E+08' '5,30E+07' '6,70E+07'\n",
      " '9,80E+07' '1,75E+08' '3500000' '1,25E+08' '6,90E+07' '1,28E+08'\n",
      " '1,90E+08' '1,18E+08' '1,09E+08' '1,07E+08' '1,24E+08' '2,15E+08'\n",
      " '1,15E+08' '1,03E+08' '8500000' '1,48E+08' '1,45E+08' '7,40E+07'\n",
      " '1,70E+08' '2,05E+08' '8,60E+07' '3,00E+08' '3,10E+07' '1,32E+08'\n",
      " '1,22E+08' '1,54E+08' '3,50E+08' '1,33E+08' '1,78E+08' '5,00E+08'\n",
      " '1,95E+08' '1,30E+08' '1,26E+08' '1,60E+08' '1,00E+09' '1,05E+08'\n",
      " '1,12E+08' '6500000' '1,23E+08' '1,40E+08' '1,65E+08' '1,06E+08']\n"
     ]
    }
   ],
   "source": [
    "#inspect and convert limit_kredit into float\n",
    "print(data.limit_kredit.unique())\n",
    "data['limit_kredit'] = data['limit_kredit'].str.replace(',','.')\n",
    "data['limit_kredit'] = data['limit_kredit'].astype('float')\n"
   ]
  },
  {
   "cell_type": "code",
   "execution_count": 9,
   "id": "0c070575-30fa-4705-a61b-9a4c750c83d8",
   "metadata": {},
   "outputs": [
    {
     "name": "stdout",
     "output_type": "stream",
     "text": [
      "['23437' '254564' '4159779' ... '2869674' '20527879' '3939921']\n"
     ]
    }
   ],
   "source": [
    "#inspect and convert tagihan column into float\n",
    "print(data.tagihan.unique())\n",
    "data['tagihan'] = data['tagihan'].str.replace(',','.')\n",
    "data['tagihan'] = data['tagihan'].astype('float')"
   ]
  },
  {
   "cell_type": "code",
   "execution_count": 10,
   "id": "a4ef6317-4611-4c55-876e-3e67e62b8241",
   "metadata": {},
   "outputs": [
    {
     "name": "stdout",
     "output_type": "stream",
     "text": [
      "['0' '1300000' '9,00E+05' '1250000' '7,00E+05' '5,00E+05' '8,00E+05'\n",
      " '1,00E+05' '95000' '1700000' '3,00E+05' '2,00E+06' '6,00E+05' '1194665'\n",
      " '3601072' '50000' '2800000' '4,00E+05' '8,00E+06' '3,00E+06' '2900000'\n",
      " '1,00E+06' '2500000' '4350000' '4,00E+06' '1648194' '290000' '5053700'\n",
      " '1500000' '606120' '1200000' '2,00E+05' '2050000' '3500000' '1050000'\n",
      " '1,50E+07' '2600000' '5050000' '3300000' '150000' '4250000' '3100000'\n",
      " '2080000' '3800000' '2100000' '2200000' '350000' '880000' '3600000'\n",
      " '1100000' '2400000' '5,00E+06' '3900000' '1600000' '2300000' '4500000'\n",
      " '4900000' '3380000' '7500000' '1400000' '250000' '8500000' '550000'\n",
      " '450000' '1800000' '4200000' '590000' '7,00E+06' '5700000' '3250000'\n",
      " '6,00E+06' '140817' '1750000' '240000' '1550000' '750000' '1150000'\n",
      " '28840572' '2650000' '1579000' '1850000' '1900000' '1,00E+07' '13200000'\n",
      " '12500000' '3400000' '2396440' '28733412' '650000' '2250000' '5800000'\n",
      " '1450000' '490000' '175000']\n"
     ]
    }
   ],
   "source": [
    "#inspect and convert total_pemakaian_tunai into float\n",
    "print(data['total_pemakaian_tunai'].unique())\n",
    "data['total_pemakaian_tunai'] = data['total_pemakaian_tunai'].str.replace(',','.')\n",
    "data['total_pemakaian_tunai'] = data['total_pemakaian_tunai'].astype('float')"
   ]
  },
  {
   "cell_type": "code",
   "execution_count": 11,
   "id": "b6ca912c-c4f4-4c60-8a47-a58a442706b5",
   "metadata": {},
   "outputs": [
    {
     "name": "stdout",
     "output_type": "stream",
     "text": [
      "['94' '1012' '0' ... '277' '238' '1018']\n"
     ]
    }
   ],
   "source": [
    "#inspect and convert total_pemakaian_retail into float\n",
    "print(data.total_pemakaian_retail.unique())\n",
    "data['total_pemakaian_retail'] = data['total_pemakaian_retail'].str.replace(',','.')\n",
    "data['total_pemakaian_retail'] = data['total_pemakaian_retail'].astype('float')"
   ]
  },
  {
   "cell_type": "code",
   "execution_count": 12,
   "id": "44636167-9cf7-4907-8a77-325fca927e29",
   "metadata": {},
   "outputs": [
    {
     "name": "stdout",
     "output_type": "stream",
     "text": [
      "['26323' '0' '581334' ... '1551674' '3191621' '246512']\n"
     ]
    }
   ],
   "source": [
    "#inspect and convert sisa_tagihan_tidak_terbayar into float\n",
    "print(data.sisa_tagihan_tidak_terbayar.unique())\n",
    "data['sisa_tagihan_tidak_terbayar'] = data['sisa_tagihan_tidak_terbayar'].str.replace(',','.')\n",
    "data['sisa_tagihan_tidak_terbayar'] = data['sisa_tagihan_tidak_terbayar'].astype('float')"
   ]
  },
  {
   "cell_type": "code",
   "execution_count": 13,
   "id": "c275e89a-cd2b-4114-a463-de90158470a2",
   "metadata": {},
   "outputs": [
    {
     "name": "stdout",
     "output_type": "stream",
     "text": [
      "['102,19' '0' '100' ... '-18138' '75' '150']\n"
     ]
    }
   ],
   "source": [
    "#inspect and convert rasio_pembayaran into float\n",
    "print(data.rasio_pembayaran.unique())\n",
    "data['rasio_pembayaran'] = data['rasio_pembayaran'].str.replace(',','.')\n",
    "data['rasio_pembayaran'] = data['rasio_pembayaran'].astype('float')"
   ]
  },
  {
   "cell_type": "code",
   "execution_count": 14,
   "id": "fe299479-cc1f-49d0-9d10-d2d38b376147",
   "metadata": {},
   "outputs": [
    {
     "name": "stdout",
     "output_type": "stream",
     "text": [
      "['0' '10,02' '23,26' ... '56' '99' '0,97']\n"
     ]
    }
   ],
   "source": [
    "#inspect and convert persentasi_overlimit into float\n",
    "print(data.persentasi_overlimit.unique())\n",
    "data['persentasi_overlimit'] = data['persentasi_overlimit'].str.replace(',','.')\n",
    "data['persentasi_overlimit'] = data['persentasi_overlimit'].astype('float')\n"
   ]
  },
  {
   "cell_type": "code",
   "execution_count": 15,
   "id": "02b1bcd6-7ca3-46ac-af97-7caf861d25f7",
   "metadata": {},
   "outputs": [
    {
     "name": "stdout",
     "output_type": "stream",
     "text": [
      "['74,78' '0' '100' ... '937' '6,9' '-14']\n"
     ]
    }
   ],
   "source": [
    "#inspect and convert rasio_pembayaran_3bulan into float\n",
    "print(data.rasio_pembayaran_3bulan.unique())\n",
    "data['rasio_pembayaran_3bulan'] = data['rasio_pembayaran_3bulan'].str.replace(',','.')\n",
    "data['rasio_pembayaran_3bulan'] = data['rasio_pembayaran_3bulan'].astype('float')"
   ]
  },
  {
   "cell_type": "code",
   "execution_count": 16,
   "id": "dfac0f21-fd05-42a7-a1f5-d8b60af36990",
   "metadata": {},
   "outputs": [
    {
     "name": "stdout",
     "output_type": "stream",
     "text": [
      "['100' '0' '100,91' ... '61,8' '-1116' '7,07']\n"
     ]
    }
   ],
   "source": [
    "#inspect and convert rasio_pembayaran_6bulan into float\n",
    "print(data.rasio_pembayaran_6bulan.unique())\n",
    "data['rasio_pembayaran_6bulan'] = data['rasio_pembayaran_6bulan'].str.replace(',','.')\n",
    "data['rasio_pembayaran_6bulan'] = data['rasio_pembayaran_6bulan'].astype('float')"
   ]
  },
  {
   "cell_type": "markdown",
   "id": "90e70c41-041b-4295-8f0b-94be1e0277a9",
   "metadata": {},
   "source": [
    "The numeric range in 'jumlah_tahun_sejak_pembukaan_kredit' is illogical since half of them are in million years, would be dropped from model"
   ]
  },
  {
   "cell_type": "code",
   "execution_count": 17,
   "id": "53f6d92a-9359-4f6c-9e79-cb3f3bee4799",
   "metadata": {},
   "outputs": [
    {
     "name": "stdout",
     "output_type": "stream",
     "text": [
      "['94' '1012' '0' ... '1400277' '238' '1018']\n"
     ]
    }
   ],
   "source": [
    "#inspect and convert total_pemakaian into float\n",
    "print(data['total_pemakaian'].unique())\n",
    "data['total_pemakaian'] = data['total_pemakaian'].str.replace(',','.')\n",
    "data['total_pemakaian'] = data['total_pemakaian'].astype('float')"
   ]
  },
  {
   "cell_type": "code",
   "execution_count": 18,
   "id": "5fc4212b-ed7a-4e10-866b-113c470067cd",
   "metadata": {},
   "outputs": [],
   "source": [
    "#Do the same way of cleansing to other columns \n",
    "formating_columns = ['sisa_tagihan_per_jumlah_kartu','sisa_tagihan_per_limit','total_pemakaian_per_limit','pemakaian_3bln_per_limit',\n",
    "                     'pemakaian_6bln_per_limit','utilisasi_3bulan','utilisasi_6bulan','jumlah_tahun_sejak_pembukaan_kredit']\n",
    "for i in formating_columns:\n",
    "    kondisi1 = data[i].str.contains(r'.*\\,.{3}$')\n",
    "    kondisi2 = data[i].str.contains(r'.*\\,.{1,2}')\n",
    "    kondisi3 = data[i].str.contains('E')\n",
    "    data_kondisi1 = data[kondisi1][i].unique()\n",
    "    data_kondisi2 = data[kondisi2][i].unique()\n",
    "    data_kondisi3 = data[kondisi3][i].unique()\n",
    "    data[i] = data[i].map(lambda x: x.replace(',',''))\n",
    "    data[i] = data[i].astype('float')"
   ]
  },
  {
   "cell_type": "code",
   "execution_count": 19,
   "id": "5cf8c1df-0587-4855-bc32-a2124e1383c8",
   "metadata": {},
   "outputs": [
    {
     "name": "stdout",
     "output_type": "stream",
     "text": [
      "<class 'pandas.core.frame.DataFrame'>\n",
      "RangeIndex: 15493 entries, 0 to 15492\n",
      "Data columns (total 24 columns):\n",
      " #   Column                               Non-Null Count  Dtype  \n",
      "---  ------                               --------------  -----  \n",
      " 0   X                                    15493 non-null  int64  \n",
      " 1   jumlah_kartu                         15493 non-null  int64  \n",
      " 2   outstanding                          15493 non-null  int64  \n",
      " 3   limit_kredit                         15493 non-null  float64\n",
      " 4   tagihan                              15493 non-null  float64\n",
      " 5   total_pemakaian_tunai                15493 non-null  float64\n",
      " 6   total_pemakaian_retail               15493 non-null  float64\n",
      " 7   sisa_tagihan_tidak_terbayar          15493 non-null  float64\n",
      " 8   kode_cabang                          15393 non-null  object \n",
      " 9   rasio_pembayaran                     15493 non-null  float64\n",
      " 10  persentasi_overlimit                 15493 non-null  float64\n",
      " 11  rasio_pembayaran_3bulan              15493 non-null  float64\n",
      " 12  rasio_pembayaran_6bulan              15493 non-null  float64\n",
      " 13  skor_delikuensi                      15493 non-null  int64  \n",
      " 14  flag_kredit_macet                    15493 non-null  int64  \n",
      " 15  jumlah_tahun_sejak_pembukaan_kredit  15493 non-null  float64\n",
      " 16  total_pemakaian                      15493 non-null  float64\n",
      " 17  sisa_tagihan_per_jumlah_kartu        15493 non-null  float64\n",
      " 18  sisa_tagihan_per_limit               15493 non-null  float64\n",
      " 19  total_pemakaian_per_limit            15493 non-null  float64\n",
      " 20  pemakaian_3bln_per_limit             15493 non-null  float64\n",
      " 21  pemakaian_6bln_per_limit             15493 non-null  float64\n",
      " 22  utilisasi_3bulan                     15493 non-null  float64\n",
      " 23  utilisasi_6bulan                     15493 non-null  float64\n",
      "dtypes: float64(18), int64(5), object(1)\n",
      "memory usage: 2.8+ MB\n"
     ]
    }
   ],
   "source": [
    "#Check cleansing result\n",
    "data.info()"
   ]
  },
  {
   "cell_type": "markdown",
   "id": "english-killing",
   "metadata": {},
   "source": [
    "## EDA"
   ]
  },
  {
   "cell_type": "code",
   "execution_count": 20,
   "id": "a6a168d7-8933-4207-9052-9bc6a9739110",
   "metadata": {},
   "outputs": [
    {
     "data": {
      "image/png": "[encoded data removed]",
      "text/plain": [
       "<Figure size 360x360 with 1 Axes>"
      ]
     },
     "metadata": {
      "needs_background": "light"
     },
     "output_type": "display_data"
    }
   ],
   "source": [
    "#Visualize outlier on the numeric variables\n",
    "numerics = ['int64','float64']\n",
    "boxplot_data = data.select_dtypes(include=numerics).copy()\n",
    "to_drop_boxplot = ['skor_delikuensi','X','flag_kredit_macet']\n",
    "boxplot_data = boxplot_data.drop(to_drop_boxplot,axis = 1)\n",
    "\n",
    "boxplot_data.boxplot(\n",
    "    column=list(boxplot_data.columns),\n",
    "    fontsize=10,\n",
    "    rot=0,\n",
    "    grid=False,\n",
    "    figsize=(5,5),\n",
    "    vert=False\n",
    "    )\n",
    "plt.pyplot.savefig('boxplot.png')"
   ]
  },
  {
   "cell_type": "code",
   "execution_count": 21,
   "id": "e33661ec-e4df-484e-9669-307a4861f5d2",
   "metadata": {},
   "outputs": [
    {
     "name": "stdout",
     "output_type": "stream",
     "text": [
      "Q1:\n",
      " jumlah_kartu                                 2.0\n",
      "outstanding                            2000551.0\n",
      "limit_kredit                           5000000.0\n",
      "tagihan                                 818250.0\n",
      "total_pemakaian_tunai                        0.0\n",
      "total_pemakaian_retail                       0.0\n",
      "sisa_tagihan_tidak_terbayar                  0.0\n",
      "rasio_pembayaran                             0.0\n",
      "persentasi_overlimit                         0.0\n",
      "rasio_pembayaran_3bulan                     20.2\n",
      "rasio_pembayaran_6bulan                     21.6\n",
      "jumlah_tahun_sejak_pembukaan_kredit        121.0\n",
      "total_pemakaian                              0.0\n",
      "sisa_tagihan_per_jumlah_kartu                0.0\n",
      "sisa_tagihan_per_limit                       0.0\n",
      "total_pemakaian_per_limit                    0.0\n",
      "pemakaian_3bln_per_limit                   128.0\n",
      "pemakaian_6bln_per_limit                   122.0\n",
      "utilisasi_3bulan                           136.0\n",
      "utilisasi_6bulan                           144.0\n",
      "Name: 0.25, dtype: float64\n",
      "\n",
      "Q3:\n",
      " jumlah_kartu                                  3.00\n",
      "outstanding                            10648482.00\n",
      "limit_kredit                           22000000.00\n",
      "tagihan                                 7404991.00\n",
      "total_pemakaian_tunai                         0.00\n",
      "total_pemakaian_retail                  1398000.00\n",
      "sisa_tagihan_tidak_terbayar             7143198.00\n",
      "rasio_pembayaran                            100.00\n",
      "persentasi_overlimit                          1.06\n",
      "rasio_pembayaran_3bulan                      91.37\n",
      "rasio_pembayaran_6bulan                     100.00\n",
      "jumlah_tahun_sejak_pembukaan_kredit         658.00\n",
      "total_pemakaian                         1512235.00\n",
      "sisa_tagihan_per_jumlah_kartu           3615330.00\n",
      "sisa_tagihan_per_limit                      679.00\n",
      "total_pemakaian_per_limit                   446.00\n",
      "pemakaian_3bln_per_limit                    619.00\n",
      "pemakaian_6bln_per_limit                    614.00\n",
      "utilisasi_3bulan                            859.00\n",
      "utilisasi_6bulan                            836.00\n",
      "Name: 0.75, dtype: float64\n",
      "\n",
      "IQR:\n",
      " jumlah_kartu                                  1.00\n",
      "outstanding                             8647931.00\n",
      "limit_kredit                           17000000.00\n",
      "tagihan                                 6586741.00\n",
      "total_pemakaian_tunai                         0.00\n",
      "total_pemakaian_retail                  1398000.00\n",
      "sisa_tagihan_tidak_terbayar             7143198.00\n",
      "rasio_pembayaran                            100.00\n",
      "persentasi_overlimit                          1.06\n",
      "rasio_pembayaran_3bulan                      71.17\n",
      "rasio_pembayaran_6bulan                      78.40\n",
      "jumlah_tahun_sejak_pembukaan_kredit         537.00\n",
      "total_pemakaian                         1512235.00\n",
      "sisa_tagihan_per_jumlah_kartu           3615330.00\n",
      "sisa_tagihan_per_limit                      679.00\n",
      "total_pemakaian_per_limit                   446.00\n",
      "pemakaian_3bln_per_limit                    491.00\n",
      "pemakaian_6bln_per_limit                    492.00\n",
      "utilisasi_3bulan                            723.00\n",
      "utilisasi_6bulan                            692.00\n",
      "dtype: float64\n",
      "\n",
      "Min:\n",
      " jumlah_kartu                           5.000000e-01\n",
      "outstanding                           -1.097135e+07\n",
      "limit_kredit                          -2.050000e+07\n",
      "tagihan                               -9.061862e+06\n",
      "total_pemakaian_tunai                  0.000000e+00\n",
      "total_pemakaian_retail                -2.097000e+06\n",
      "sisa_tagihan_tidak_terbayar           -1.071480e+07\n",
      "rasio_pembayaran                      -1.500000e+02\n",
      "persentasi_overlimit                  -1.590000e+00\n",
      "rasio_pembayaran_3bulan               -8.655500e+01\n",
      "rasio_pembayaran_6bulan               -9.600000e+01\n",
      "jumlah_tahun_sejak_pembukaan_kredit   -6.845000e+02\n",
      "total_pemakaian                       -2.268352e+06\n",
      "sisa_tagihan_per_jumlah_kartu         -5.422995e+06\n",
      "sisa_tagihan_per_limit                -1.018500e+03\n",
      "total_pemakaian_per_limit             -6.690000e+02\n",
      "pemakaian_3bln_per_limit              -6.085000e+02\n",
      "pemakaian_6bln_per_limit              -6.160000e+02\n",
      "utilisasi_3bulan                      -9.485000e+02\n",
      "utilisasi_6bulan                      -8.940000e+02\n",
      "dtype: float64\n",
      "\n",
      "Max:\n",
      " jumlah_kartu                           4.500000e+00\n",
      "outstanding                            2.362038e+07\n",
      "limit_kredit                           4.750000e+07\n",
      "tagihan                                1.728510e+07\n",
      "total_pemakaian_tunai                  0.000000e+00\n",
      "total_pemakaian_retail                 3.495000e+06\n",
      "sisa_tagihan_tidak_terbayar            1.785800e+07\n",
      "rasio_pembayaran                       2.500000e+02\n",
      "persentasi_overlimit                   2.650000e+00\n",
      "rasio_pembayaran_3bulan                1.981250e+02\n",
      "rasio_pembayaran_6bulan                2.176000e+02\n",
      "jumlah_tahun_sejak_pembukaan_kredit    1.463500e+03\n",
      "total_pemakaian                        3.780588e+06\n",
      "sisa_tagihan_per_jumlah_kartu          9.038325e+06\n",
      "sisa_tagihan_per_limit                 1.697500e+03\n",
      "total_pemakaian_per_limit              1.115000e+03\n",
      "pemakaian_3bln_per_limit               1.355500e+03\n",
      "pemakaian_6bln_per_limit               1.352000e+03\n",
      "utilisasi_3bulan                       1.943500e+03\n",
      "utilisasi_6bulan                       1.874000e+03\n",
      "dtype: float64\n"
     ]
    }
   ],
   "source": [
    "# get IQR for each final numeric column\n",
    "numerics = ['int64','float64']\n",
    "iqr_data= data.select_dtypes(include=numerics).copy()\n",
    "to_drop_iqr = ['skor_delikuensi','X','flag_kredit_macet']\n",
    "iqr_data = iqr_data.drop(to_drop_boxplot,axis = 1)\n",
    "\n",
    "Q1 = iqr_data.quantile(0.25)\n",
    "Q3 = iqr_data.quantile(0.75)\n",
    "IQR = Q3 - Q1\n",
    "boxplot_min = Q1 - 1.5 * IQR\n",
    "boxplot_max = Q3 + 1.5 * IQR\n",
    "print('Q1:\\n',Q1)\n",
    "print('\\nQ3:\\n',Q3)\n",
    "print('\\nIQR:\\n',IQR)\n",
    "print('\\nMin:\\n',boxplot_min)\n",
    "print('\\nMax:\\n',boxplot_max)"
   ]
  },
  {
   "cell_type": "code",
   "execution_count": 22,
   "id": "b48aeae6-1124-4cfc-b990-19d184c4c53b",
   "metadata": {},
   "outputs": [
    {
     "data": {
      "text/plain": [
       "0.5"
      ]
     },
     "execution_count": 22,
     "metadata": {},
     "output_type": "execute_result"
    }
   ],
   "source": [
    "boxplot_min['jumlah_kartu']"
   ]
  },
  {
   "cell_type": "code",
   "execution_count": 23,
   "id": "9313f1ac-5b4a-4a1a-b367-aceddd9de52d",
   "metadata": {},
   "outputs": [],
   "source": [
    "# remove outlier for visually extreme columns\n",
    "extreme_columns = ['sisa_tagihan_per_jumlah_kartu','jumlah_tahun_sejak_pembukaan_kredit']\n",
    "data_model = data.copy()\n",
    "for i in iqr_data.columns:\n",
    "  data_model[i] = data_model[i].map(lambda x: boxplot_min[i] if x<boxplot_min[i] else boxplot_max[i] if x >boxplot_max[i] else x)\n",
    " "
   ]
  },
  {
   "cell_type": "code",
   "execution_count": 24,
   "id": "10abc890-a796-42f3-a009-f191bb12d6f2",
   "metadata": {},
   "outputs": [
    {
     "data": {
      "text/plain": [
       "<AxesSubplot:>"
      ]
     },
     "execution_count": 24,
     "metadata": {},
     "output_type": "execute_result"
    },
    {
     "data": {
      "image/png": "[encoded data removed]",
      "text/plain": [
       "<Figure size 360x360 with 1 Axes>"
      ]
     },
     "metadata": {
      "needs_background": "light"
     },
     "output_type": "display_data"
    }
   ],
   "source": [
    "#Visualize outlier again\n",
    "numerics = ['int64','float64']\n",
    "boxplot_model = data_model.select_dtypes(include=numerics).copy()\n",
    "to_drop_boxplot_model = ['skor_delikuensi','X','flag_kredit_macet']\n",
    "boxplot_model = boxplot_model.drop(to_drop_boxplot,axis = 1)\n",
    "\n",
    "boxplot_model.boxplot(\n",
    "    column=list(boxplot_data.columns),\n",
    "    fontsize=10,\n",
    "    rot=0,\n",
    "    grid=False,\n",
    "    figsize=(5,5),\n",
    "    vert=False\n",
    "    )"
   ]
  },
  {
   "cell_type": "code",
   "execution_count": 25,
   "id": "959f8858-5390-48f0-ac57-12f5f90bc48e",
   "metadata": {},
   "outputs": [
    {
     "name": "stdout",
     "output_type": "stream",
     "text": [
      "<class 'pandas.core.frame.DataFrame'>\n",
      "RangeIndex: 15493 entries, 0 to 15492\n",
      "Data columns (total 24 columns):\n",
      " #   Column                               Non-Null Count  Dtype  \n",
      "---  ------                               --------------  -----  \n",
      " 0   X                                    15493 non-null  int64  \n",
      " 1   jumlah_kartu                         15493 non-null  float64\n",
      " 2   outstanding                          15493 non-null  float64\n",
      " 3   limit_kredit                         15493 non-null  float64\n",
      " 4   tagihan                              15493 non-null  float64\n",
      " 5   total_pemakaian_tunai                15493 non-null  float64\n",
      " 6   total_pemakaian_retail               15493 non-null  float64\n",
      " 7   sisa_tagihan_tidak_terbayar          15493 non-null  float64\n",
      " 8   kode_cabang                          15393 non-null  object \n",
      " 9   rasio_pembayaran                     15493 non-null  float64\n",
      " 10  persentasi_overlimit                 15493 non-null  float64\n",
      " 11  rasio_pembayaran_3bulan              15493 non-null  float64\n",
      " 12  rasio_pembayaran_6bulan              15493 non-null  float64\n",
      " 13  skor_delikuensi                      15493 non-null  int64  \n",
      " 14  flag_kredit_macet                    15493 non-null  int64  \n",
      " 15  jumlah_tahun_sejak_pembukaan_kredit  15493 non-null  float64\n",
      " 16  total_pemakaian                      15493 non-null  float64\n",
      " 17  sisa_tagihan_per_jumlah_kartu        15493 non-null  float64\n",
      " 18  sisa_tagihan_per_limit               15493 non-null  float64\n",
      " 19  total_pemakaian_per_limit            15493 non-null  float64\n",
      " 20  pemakaian_3bln_per_limit             15493 non-null  float64\n",
      " 21  pemakaian_6bln_per_limit             15493 non-null  float64\n",
      " 22  utilisasi_3bulan                     15493 non-null  float64\n",
      " 23  utilisasi_6bulan                     15493 non-null  float64\n",
      "dtypes: float64(20), int64(3), object(1)\n",
      "memory usage: 2.8+ MB\n"
     ]
    }
   ],
   "source": [
    "#check the result of removing outlier\n",
    "data_model.info()"
   ]
  },
  {
   "cell_type": "code",
   "execution_count": 26,
   "id": "46e8269b-950e-4dc5-ad3e-d19d731acf90",
   "metadata": {},
   "outputs": [
    {
     "data": {
      "image/png": "[encoded data removed]",
      "text/plain": [
       "<Figure size 1080x1080 with 2 Axes>"
      ]
     },
     "metadata": {
      "needs_background": "light"
     },
     "output_type": "display_data"
    }
   ],
   "source": [
    "#check for multicollinearity for non categorical numeric columns\n",
    "import seaborn as sns\n",
    "numerics = ['int64','float64']\n",
    "correlation = data_model.select_dtypes(include=numerics).copy()\n",
    "to_drop = ['skor_delikuensi','X','flag_kredit_macet','total_pemakaian_tunai']\n",
    "correlation =correlation.drop(to_drop, axis = 1)\n",
    "\n",
    "\n",
    "correlation_between_column = correlation.corr()\n",
    "upper_triangle_corr = np.triu(correlation_between_column)\n",
    "\n",
    "fig, ax = plt.pyplot.subplots(figsize=(15,15))\n",
    "heatmap_numerical = sns.heatmap(correlation_between_column,annot = True, cmap=\"YlGnBu\",fmt = '.0%',ax=ax,annot_kws={\"size\":15},mask=upper_triangle_corr)\n",
    "heatmap_numerical.set_title('Correlation Heatmap for Numerical Variable', fontdict={'fontsize':12}, pad=12)\n",
    "plt.pyplot.savefig('heatmap.png')"
   ]
  },
  {
   "cell_type": "markdown",
   "id": "2f4198df-e699-43e6-9618-b959b26a961c",
   "metadata": {},
   "source": [
    "There are several variables that need to be dropped due to being highly correlated with other variables\n",
    "\n",
    "Threshold : 0.7\n",
    "\n",
    "1. total_pemakaian_retail = correlated with total pemakaian\n",
    "\n",
    "2. sisa_tagihan_tidak_terbayar = correlated with sisa_tagihan_per_jumlah_kartu\n",
    "\n",
    "3. outstanding = correlated with tagihan\n"
   ]
  },
  {
   "cell_type": "code",
   "execution_count": 27,
   "id": "f86c6ef2-3166-4276-a7ab-31b71d899abd",
   "metadata": {},
   "outputs": [],
   "source": [
    "#recreate heatmap to see the result\n",
    "to_drop_korelasi  =['total_pemakaian_retail', 'sisa_tagihan_tidak_terbayar','outstanding','total_pemakaian_tunai']"
   ]
  },
  {
   "cell_type": "code",
   "execution_count": 28,
   "id": "66c8a742-11ca-4d44-8934-567102b2155d",
   "metadata": {},
   "outputs": [
    {
     "data": {
      "text/html": [
       "<div>\n",
       "<style scoped>\n",
       "    .dataframe tbody tr th:only-of-type {\n",
       "        vertical-align: middle;\n",
       "    }\n",
       "\n",
       "    .dataframe tbody tr th {\n",
       "        vertical-align: top;\n",
       "    }\n",
       "\n",
       "    .dataframe thead th {\n",
       "        text-align: right;\n",
       "    }\n",
       "</style>\n",
       "<table border=\"1\" class=\"dataframe\">\n",
       "  <thead>\n",
       "    <tr style=\"text-align: right;\">\n",
       "      <th></th>\n",
       "      <th>jumlah_kartu</th>\n",
       "      <th>limit_kredit</th>\n",
       "      <th>tagihan</th>\n",
       "      <th>rasio_pembayaran</th>\n",
       "      <th>persentasi_overlimit</th>\n",
       "      <th>rasio_pembayaran_3bulan</th>\n",
       "      <th>rasio_pembayaran_6bulan</th>\n",
       "      <th>jumlah_tahun_sejak_pembukaan_kredit</th>\n",
       "      <th>total_pemakaian</th>\n",
       "      <th>sisa_tagihan_per_jumlah_kartu</th>\n",
       "      <th>sisa_tagihan_per_limit</th>\n",
       "      <th>total_pemakaian_per_limit</th>\n",
       "      <th>pemakaian_3bln_per_limit</th>\n",
       "      <th>pemakaian_6bln_per_limit</th>\n",
       "      <th>utilisasi_3bulan</th>\n",
       "      <th>utilisasi_6bulan</th>\n",
       "    </tr>\n",
       "    <tr>\n",
       "      <th>flag_kredit_macet</th>\n",
       "      <th></th>\n",
       "      <th></th>\n",
       "      <th></th>\n",
       "      <th></th>\n",
       "      <th></th>\n",
       "      <th></th>\n",
       "      <th></th>\n",
       "      <th></th>\n",
       "      <th></th>\n",
       "      <th></th>\n",
       "      <th></th>\n",
       "      <th></th>\n",
       "      <th></th>\n",
       "      <th></th>\n",
       "      <th></th>\n",
       "      <th></th>\n",
       "    </tr>\n",
       "  </thead>\n",
       "  <tbody>\n",
       "    <tr>\n",
       "      <th>0</th>\n",
       "      <td>2.438659</td>\n",
       "      <td>1.638552e+07</td>\n",
       "      <td>5.122565e+06</td>\n",
       "      <td>52.923662</td>\n",
       "      <td>0.598198</td>\n",
       "      <td>58.058452</td>\n",
       "      <td>64.512563</td>\n",
       "      <td>441.157174</td>\n",
       "      <td>1.031210e+06</td>\n",
       "      <td>2.392016e+06</td>\n",
       "      <td>391.199448</td>\n",
       "      <td>295.019573</td>\n",
       "      <td>431.923540</td>\n",
       "      <td>425.318886</td>\n",
       "      <td>627.492996</td>\n",
       "      <td>603.256483</td>\n",
       "    </tr>\n",
       "    <tr>\n",
       "      <th>1</th>\n",
       "      <td>2.493745</td>\n",
       "      <td>1.754231e+07</td>\n",
       "      <td>6.788009e+06</td>\n",
       "      <td>15.478565</td>\n",
       "      <td>1.204025</td>\n",
       "      <td>29.744720</td>\n",
       "      <td>44.178396</td>\n",
       "      <td>425.075791</td>\n",
       "      <td>3.187179e+05</td>\n",
       "      <td>3.562641e+06</td>\n",
       "      <td>449.264533</td>\n",
       "      <td>122.231976</td>\n",
       "      <td>369.979464</td>\n",
       "      <td>384.209014</td>\n",
       "      <td>605.766740</td>\n",
       "      <td>610.897829</td>\n",
       "    </tr>\n",
       "  </tbody>\n",
       "</table>\n",
       "</div>"
      ],
      "text/plain": [
       "                   jumlah_kartu  limit_kredit       tagihan  rasio_pembayaran  \\\n",
       "flag_kredit_macet                                                               \n",
       "0                      2.438659  1.638552e+07  5.122565e+06         52.923662   \n",
       "1                      2.493745  1.754231e+07  6.788009e+06         15.478565   \n",
       "\n",
       "                   persentasi_overlimit  rasio_pembayaran_3bulan  \\\n",
       "flag_kredit_macet                                                  \n",
       "0                              0.598198                58.058452   \n",
       "1                              1.204025                29.744720   \n",
       "\n",
       "                   rasio_pembayaran_6bulan  \\\n",
       "flag_kredit_macet                            \n",
       "0                                64.512563   \n",
       "1                                44.178396   \n",
       "\n",
       "                   jumlah_tahun_sejak_pembukaan_kredit  total_pemakaian  \\\n",
       "flag_kredit_macet                                                         \n",
       "0                                           441.157174     1.031210e+06   \n",
       "1                                           425.075791     3.187179e+05   \n",
       "\n",
       "                   sisa_tagihan_per_jumlah_kartu  sisa_tagihan_per_limit  \\\n",
       "flag_kredit_macet                                                          \n",
       "0                                   2.392016e+06              391.199448   \n",
       "1                                   3.562641e+06              449.264533   \n",
       "\n",
       "                   total_pemakaian_per_limit  pemakaian_3bln_per_limit  \\\n",
       "flag_kredit_macet                                                        \n",
       "0                                 295.019573                431.923540   \n",
       "1                                 122.231976                369.979464   \n",
       "\n",
       "                   pemakaian_6bln_per_limit  utilisasi_3bulan  \\\n",
       "flag_kredit_macet                                               \n",
       "0                                425.318886        627.492996   \n",
       "1                                384.209014        605.766740   \n",
       "\n",
       "                   utilisasi_6bulan  \n",
       "flag_kredit_macet                    \n",
       "0                        603.256483  \n",
       "1                        610.897829  "
      ]
     },
     "execution_count": 28,
     "metadata": {},
     "output_type": "execute_result"
    }
   ],
   "source": [
    "#Finding the tendency of numerical variables  for Default or non default customer\n",
    "numerics = ['int64','float64']\n",
    "summary_data = data_model.select_dtypes(include=numerics).copy()\n",
    "to_drop = ['skor_delikuensi','X']\n",
    "to_drop_2 = to_drop_korelasi\n",
    "summary_data =summary_data.drop(to_drop, axis = 1)\n",
    "summary_data =summary_data.drop(to_drop_2, axis = 1)\n",
    "\n",
    "\n",
    "summary_data.groupby('flag_kredit_macet').mean()\n"
   ]
  },
  {
   "cell_type": "markdown",
   "id": "6bf2bff9-3fb7-4d4b-9336-58fdcba52141",
   "metadata": {},
   "source": [
    "Interpretation for numeric variables\n",
    "\n",
    "Default customer have :\n",
    "                1.  Higher credit Limit\n",
    "                2.  Higher card bill\n",
    "                3.  lower payment ratio\n",
    "                4. higher overlimit\n",
    "                5. shorter membership duration\n",
    "                6. Higher usage"
   ]
  },
  {
   "cell_type": "code",
   "execution_count": 29,
   "id": "b73650c9-fd0b-4f70-938c-742da7f5dd3c",
   "metadata": {},
   "outputs": [
    {
     "name": "stdout",
     "output_type": "stream",
     "text": [
      "                 flag_kredit_macet\n",
      "skor_delikuensi                   \n",
      "0                         0.087438\n",
      "1                         0.241379\n",
      "2                         0.250000\n",
      "3                         0.000000\n",
      "4                         0.000000\n",
      "5                         0.000000\n"
     ]
    },
    {
     "data": {
      "image/png": "[encoded data removed]",
      "text/plain": [
       "<Figure size 432x288 with 1 Axes>"
      ]
     },
     "metadata": {
      "needs_background": "light"
     },
     "output_type": "display_data"
    }
   ],
   "source": [
    "#Visualizing The distribution of  categorical variable - skor_delikuensi\n",
    "sns.countplot(x = 'skor_delikuensi',hue = 'flag_kredit_macet', data = data_model)\n",
    "\n",
    "print(data_model[['skor_delikuensi','flag_kredit_macet']].groupby('skor_delikuensi').mean())\n"
   ]
  },
  {
   "cell_type": "markdown",
   "id": "9daebb72-85ed-4c8f-9e2a-89811e185a7e",
   "metadata": {},
   "source": [
    "It is seen that the distribution of skor_delikuensi is skewed towards the lower score\n",
    "\n",
    "Visually, there is no clear trend of default status. Customers within skor_delikuensi '1','2',and '3' has significant defaults, while the rest are overwhelmingly non default"
   ]
  },
  {
   "cell_type": "markdown",
   "id": "assisted-stone",
   "metadata": {},
   "source": [
    "## Modelling"
   ]
  },
  {
   "cell_type": "code",
   "execution_count": 30,
   "id": "40710d3e-a938-4097-8c5f-2cb10718b5d8",
   "metadata": {},
   "outputs": [
    {
     "data": {
      "image/png": "[encoded data removed]",
      "text/plain": [
       "<Figure size 432x288 with 1 Axes>"
      ]
     },
     "metadata": {
      "needs_background": "light"
     },
     "output_type": "display_data"
    }
   ],
   "source": [
    "#Target Distribution\n",
    "sns.countplot(x = 'flag_kredit_macet', hue ='flag_kredit_macet', data = data_model)\n",
    "plt.pyplot.savefig('target_distribution.png')\n",
    "    "
   ]
  },
  {
   "cell_type": "markdown",
   "id": "bcb4288a-ced6-4eac-b89f-4ed70574d697",
   "metadata": {},
   "source": [
    "Target distribution is very imbalance"
   ]
  },
  {
   "cell_type": "code",
   "execution_count": 31,
   "id": "149e8393-0343-4d4a-86bd-4b440ff4eb19",
   "metadata": {},
   "outputs": [],
   "source": [
    "#impot necessary package for modelling\n",
    "from sklearn.model_selection import train_test_split\n",
    "from sklearn.metrics import accuracy_score, confusion_matrix\n",
    "from sklearn.linear_model import LogisticRegression\n",
    "from sklearn.tree import DecisionTreeClassifier"
   ]
  },
  {
   "cell_type": "code",
   "execution_count": 32,
   "id": "3834b0d2-fe13-42e1-9ea0-9a4f0e14ebcc",
   "metadata": {},
   "outputs": [],
   "source": [
    "#Separate features and label\n",
    "X = data_model.copy()\n",
    "to_drop_on_model = ['X','total_pemakaian_retail', 'sisa_tagihan_tidak_terbayar','outstanding','kode_cabang','flag_kredit_macet','total_pemakaian_tunai']\n",
    "X = X.drop(to_drop_on_model, axis = 1)\n",
    "Y = data_model['flag_kredit_macet'].copy()"
   ]
  },
  {
   "cell_type": "code",
   "execution_count": 33,
   "id": "be9521e7-7e68-4582-a480-f6e003af476d",
   "metadata": {},
   "outputs": [
    {
     "data": {
      "text/plain": [
       "Index(['jumlah_kartu', 'limit_kredit', 'tagihan', 'rasio_pembayaran',\n",
       "       'persentasi_overlimit', 'rasio_pembayaran_3bulan',\n",
       "       'rasio_pembayaran_6bulan', 'skor_delikuensi',\n",
       "       'jumlah_tahun_sejak_pembukaan_kredit', 'total_pemakaian',\n",
       "       'sisa_tagihan_per_jumlah_kartu', 'sisa_tagihan_per_limit',\n",
       "       'total_pemakaian_per_limit', 'pemakaian_3bln_per_limit',\n",
       "       'pemakaian_6bln_per_limit', 'utilisasi_3bulan', 'utilisasi_6bulan'],\n",
       "      dtype='object')"
      ]
     },
     "execution_count": 33,
     "metadata": {},
     "output_type": "execute_result"
    }
   ],
   "source": [
    "X.columns"
   ]
  },
  {
   "cell_type": "code",
   "execution_count": 34,
   "id": "c2b61556-739f-48ed-84f5-68d2716ef480",
   "metadata": {},
   "outputs": [
    {
     "name": "stdout",
     "output_type": "stream",
     "text": [
      "Collecting imblearn\n",
      "  Downloading imblearn-0.0-py2.py3-none-any.whl (1.9 kB)\n",
      "Collecting imbalanced-learn\n",
      "  Downloading imbalanced_learn-0.8.0-py3-none-any.whl (206 kB)\n",
      "\u001b[K     |████████████████████████████████| 206 kB 17.1 MB/s eta 0:00:01\n",
      "\u001b[?25hCollecting scikit-learn>=0.24\n",
      "  Downloading scikit_learn-0.24.2-cp38-cp38-manylinux2010_x86_64.whl (24.9 MB)\n",
      "\u001b[K     |████████████████████████████████| 24.9 MB 57.4 MB/s eta 0:00:01\n",
      "\u001b[?25hCollecting numpy>=1.13.3\n",
      "  Downloading numpy-1.21.1-cp38-cp38-manylinux_2_12_x86_64.manylinux2010_x86_64.whl (15.8 MB)\n",
      "\u001b[K     |████████████████████████████████| 15.8 MB 21.7 MB/s eta 0:00:01\n",
      "\u001b[?25hCollecting joblib>=0.11\n",
      "  Downloading joblib-1.0.1-py3-none-any.whl (303 kB)\n",
      "\u001b[K     |████████████████████████████████| 303 kB 24.9 MB/s eta 0:00:01\n",
      "\u001b[?25hCollecting scipy>=0.19.1\n",
      "  Downloading scipy-1.7.1-cp38-cp38-manylinux_2_5_x86_64.manylinux1_x86_64.whl (28.4 MB)\n",
      "\u001b[K     |████████████████████████████████| 28.4 MB 59.5 MB/s eta 0:00:01\n",
      "\u001b[?25hCollecting threadpoolctl>=2.0.0\n",
      "  Downloading threadpoolctl-2.2.0-py3-none-any.whl (12 kB)\n",
      "Installing collected packages: numpy, threadpoolctl, scipy, joblib, scikit-learn, imbalanced-learn, imblearn\n",
      "\u001b[31mERROR: pip's dependency resolver does not currently take into account all the packages that are installed. This behaviour is the source of the following dependency conflicts.\n",
      "tensorflow 2.4.1 requires numpy~=1.19.2, but you have numpy 1.21.1 which is incompatible.\n",
      "pythonwhat 2.23.1 requires dill~=0.2.7.1, but you have dill 0.3.3 which is incompatible.\n",
      "pythonwhat 2.23.1 requires jinja2~=2.10, but you have jinja2 3.0.1 which is incompatible.\u001b[0m\n",
      "Successfully installed imbalanced-learn-0.8.0 imblearn-0.0 joblib-1.0.1 numpy-1.21.1 scikit-learn-0.24.2 scipy-1.7.1 threadpoolctl-2.2.0\n",
      "\u001b[33mWARNING: You are using pip version 21.1.2; however, version 21.2.2 is available.\n",
      "You should consider upgrading via the '/usr/bin/python3 -m pip install --upgrade pip' command.\u001b[0m\n"
     ]
    }
   ],
   "source": [
    "#Install imblearn to handle imbalance data\n",
    "!pip install imblearn\n"
   ]
  },
  {
   "cell_type": "markdown",
   "id": "f420098f-a48c-4688-9847-c8a7f4d78549",
   "metadata": {},
   "source": [
    "As mentioned befored that label data is skewed / imbalance,  Synthetic Minority Over-Sampling Technique(SMOTE) would be done to create balance"
   ]
  },
  {
   "cell_type": "code",
   "execution_count": 35,
   "id": "ae982d48-57de-4416-86cb-47bc52db4130",
   "metadata": {},
   "outputs": [],
   "source": [
    "#train test split\n",
    "X_train, X_test, y_train, y_test = train_test_split(X,Y, test_size=0.20,stratify =Y , random_state=66)"
   ]
  },
  {
   "cell_type": "code",
   "execution_count": 36,
   "id": "421c8134-41d5-47d4-9f57-8f51dc187341",
   "metadata": {},
   "outputs": [],
   "source": [
    "#Handling imbalance data through SMOTE\n",
    "from imblearn.over_sampling import SMOTE\n",
    "X_balance_train,Y_balance_train = SMOTE().fit_resample(X_train,y_train)\n",
    "X_balance_train = pd.DataFrame(X_balance_train, columns = X.columns)"
   ]
  },
  {
   "cell_type": "code",
   "execution_count": 37,
   "id": "068a2347-f1ef-4c76-96cf-217bf1f0e871",
   "metadata": {},
   "outputs": [
    {
     "name": "stdout",
     "output_type": "stream",
     "text": [
      "0    11307\n",
      "1    11307\n",
      "Name: flag_kredit_macet, dtype: int64\n"
     ]
    }
   ],
   "source": [
    "#check the result of SMOTE\n",
    "print(Y_balance_train.value_counts())"
   ]
  },
  {
   "cell_type": "code",
   "execution_count": 38,
   "id": "100520cd-e5f1-4b20-b530-b746f47dc1a0",
   "metadata": {},
   "outputs": [],
   "source": [
    "#Import several classifiers Model\n",
    "from sklearn.linear_model import LogisticRegression\n",
    "from sklearn.neighbors import KNeighborsClassifier\n",
    "from sklearn.svm import SVC\n",
    "from sklearn.tree import DecisionTreeClassifier\n",
    "from sklearn.ensemble import RandomForestClassifier\n",
    "from xgboost import XGBClassifier\n",
    "from sklearn.metrics import average_precision_score\n",
    "from sklearn.metrics import classification_report\n",
    "from sklearn.model_selection import cross_val_score\n",
    "from sklearn.preprocessing import StandardScaler\n",
    "from sklearn.pipeline import Pipeline\n",
    "from sklearn.metrics import precision_score"
   ]
  },
  {
   "cell_type": "code",
   "execution_count": 39,
   "id": "ab16cec1-31eb-417f-ab0d-9a18865e1917",
   "metadata": {},
   "outputs": [],
   "source": [
    "#Create dictionary for all classifier\n",
    "classifiers = {\n",
    "    \"LogisticRegression\" : LogisticRegression(),\n",
    "    \"KNeighbors\" : KNeighborsClassifier(),\n",
    "    \"SVC\" : SVC(),\n",
    "    \"DecisionTree\" : DecisionTreeClassifier(),\n",
    "    \"RandomForest\" : RandomForestClassifier(),\n",
    "}"
   ]
  },
  {
   "cell_type": "code",
   "execution_count": 40,
   "id": "59719feb-6add-4517-8537-8f8a31160a2d",
   "metadata": {},
   "outputs": [
    {
     "name": "stdout",
     "output_type": "stream",
     "text": [
      "__________________________\n",
      "LogisticRegression\n",
      "train score:  0.7485628371805076\n",
      "test score:  0.680864795095192\n",
      "precision_score:  0.1801962533452275\n",
      "__________________________\n",
      "KNeighbors\n",
      "train score:  0.9093481913858672\n",
      "test score:  0.749919328815747\n",
      "precision_score:  0.19141104294478528\n",
      "__________________________\n",
      "SVC\n",
      "train score:  0.8574776687008048\n",
      "test score:  0.766053565666344\n",
      "precision_score:  0.20998719590268886\n",
      "__________________________\n",
      "DecisionTree\n",
      "train score:  1.0\n",
      "test score:  0.8157470151661826\n",
      "precision_score:  0.20743639921722112\n",
      "__________________________\n",
      "RandomForest\n",
      "train score:  1.0\n",
      "test score:  0.8877057115198451\n",
      "precision_score:  0.35384615384615387\n"
     ]
    }
   ],
   "source": [
    "#Build models using all classifier to compare\n",
    "for key, classifier in classifiers.items():\n",
    "    print('__________________________')\n",
    "    print(key)\n",
    "    steps = [('scaler', StandardScaler()),\n",
    "        (key, classifier)]\n",
    "    pipeline = Pipeline(steps)\n",
    "    pipeline.fit(X_balance_train, Y_balance_train)\n",
    "    train_score = pipeline.score(X_balance_train, Y_balance_train)\n",
    "    print('train score: ', train_score)\n",
    "    test_score = pipeline.score(X_test, y_test)\n",
    "    print('test score: ', test_score)\n",
    "    y_pred = pipeline.predict(X_test)\n",
    "    print('precision_score: ',precision_score(y_test, y_pred))\n",
    "\n"
   ]
  },
  {
   "cell_type": "markdown",
   "id": "12d2d700-6148-411f-86c9-26ceabfb4334",
   "metadata": {},
   "source": [
    "Random Forest Shows the highest performance on test score and precision score"
   ]
  },
  {
   "cell_type": "code",
   "execution_count": 41,
   "id": "e94a70b0-4061-40a9-b18f-c6c8f2cbdcde",
   "metadata": {},
   "outputs": [
    {
     "name": "stdout",
     "output_type": "stream",
     "text": [
      "              precision    recall  f1-score   support\n",
      "\n",
      "           0       0.94      0.94      0.94      2827\n",
      "           1       0.35      0.34      0.34       272\n",
      "\n",
      "    accuracy                           0.89      3099\n",
      "   macro avg       0.64      0.64      0.64      3099\n",
      "weighted avg       0.89      0.89      0.89      3099\n",
      "\n",
      "Cross Validation 3-Fold score result :\n",
      "[0.89692226 0.94547625 0.94215972]\n"
     ]
    }
   ],
   "source": [
    "#generate classification report\n",
    "from sklearn.metrics import classification_report\n",
    "from sklearn.model_selection import cross_val_score\n",
    "model = RandomForestClassifier()\n",
    "model.fit(X_balance_train,Y_balance_train)\n",
    "prediction = model.predict(X_test)\n",
    "score_cv = cross_val_score(model,X_balance_train,Y_balance_train,cv=3)\n",
    "print(classification_report(y_test, prediction))\n",
    "print(\"Cross Validation 3-Fold score result :\")\n",
    "print(score_cv)"
   ]
  },
  {
   "cell_type": "markdown",
   "id": "7b343cdc-9e40-438c-b929-710b995c8004",
   "metadata": {},
   "source": [
    "Cross Validation score shows that Random forest model without tuning scored 93% in performance, by average\n",
    "\n",
    "Hyperparameter tuning is done on random forest model to improve the performance"
   ]
  },
  {
   "cell_type": "code",
   "execution_count": 42,
   "id": "c3b7a141-4abe-4dd1-93a7-294e60c6573a",
   "metadata": {},
   "outputs": [
    {
     "data": {
      "text/plain": [
       "GridSearchCV(cv=3, estimator=RandomForestClassifier(),\n",
       "             param_grid={'max_depth': [10, 50, 100, None],\n",
       "                         'min_samples_leaf': [1, 2, 4],\n",
       "                         'min_samples_split': [1, 2, 5, 10]})"
      ]
     },
     "execution_count": 42,
     "metadata": {},
     "output_type": "execute_result"
    }
   ],
   "source": [
    "#Do parameter Tuning\n",
    "from sklearn.model_selection import GridSearchCV\n",
    "\n",
    "# Maximum number of levels in tree #\n",
    "max_depth = [10, 50, 100,None]\n",
    "\n",
    "# Minimum number of samples required to split a node #\n",
    "min_samples_split = [1,2, 5, 10]\n",
    "# Minimum number of samples required at each leaf node #\n",
    "min_samples_leaf = [1, 2, 4]\n",
    "# Method of selecting samples for training each tree #\n",
    "bootstrap = [True, False]\n",
    "\n",
    "random_forest_model_tuning = RandomForestClassifier()\n",
    "random_grid ={\n",
    "                'max_depth': max_depth,\n",
    "               'min_samples_split': min_samples_split,\n",
    "               'min_samples_leaf': min_samples_leaf,\n",
    "              }\n",
    "model_tuned = GridSearchCV(random_forest_model_tuning, random_grid, cv = 3)\n",
    "model_tuned.fit(X_balance_train,Y_balance_train)\n"
   ]
  },
  {
   "cell_type": "code",
   "execution_count": 43,
   "id": "6c97dbd9-ef7f-4deb-8ba0-6afcd70e6637",
   "metadata": {},
   "outputs": [
    {
     "name": "stdout",
     "output_type": "stream",
     "text": [
      "best parameter :  {'max_depth': 100, 'min_samples_leaf': 1, 'min_samples_split': 2}\n",
      "____________________________________________________________________________\n"
     ]
    },
    {
     "data": {
      "text/html": [
       "<div>\n",
       "<style scoped>\n",
       "    .dataframe tbody tr th:only-of-type {\n",
       "        vertical-align: middle;\n",
       "    }\n",
       "\n",
       "    .dataframe tbody tr th {\n",
       "        vertical-align: top;\n",
       "    }\n",
       "\n",
       "    .dataframe thead th {\n",
       "        text-align: right;\n",
       "    }\n",
       "</style>\n",
       "<table border=\"1\" class=\"dataframe\">\n",
       "  <thead>\n",
       "    <tr style=\"text-align: right;\">\n",
       "      <th></th>\n",
       "      <th>param_max_depth</th>\n",
       "      <th>param_min_samples_leaf</th>\n",
       "      <th>param_min_samples_split</th>\n",
       "      <th>mean_test_score</th>\n",
       "    </tr>\n",
       "  </thead>\n",
       "  <tbody>\n",
       "    <tr>\n",
       "      <th>25</th>\n",
       "      <td>100</td>\n",
       "      <td>1</td>\n",
       "      <td>2</td>\n",
       "      <td>0.927744</td>\n",
       "    </tr>\n",
       "    <tr>\n",
       "      <th>13</th>\n",
       "      <td>50</td>\n",
       "      <td>1</td>\n",
       "      <td>2</td>\n",
       "      <td>0.927390</td>\n",
       "    </tr>\n",
       "    <tr>\n",
       "      <th>37</th>\n",
       "      <td>None</td>\n",
       "      <td>1</td>\n",
       "      <td>2</td>\n",
       "      <td>0.925489</td>\n",
       "    </tr>\n",
       "    <tr>\n",
       "      <th>14</th>\n",
       "      <td>50</td>\n",
       "      <td>1</td>\n",
       "      <td>5</td>\n",
       "      <td>0.923941</td>\n",
       "    </tr>\n",
       "    <tr>\n",
       "      <th>26</th>\n",
       "      <td>100</td>\n",
       "      <td>1</td>\n",
       "      <td>5</td>\n",
       "      <td>0.923410</td>\n",
       "    </tr>\n",
       "    <tr>\n",
       "      <th>38</th>\n",
       "      <td>None</td>\n",
       "      <td>1</td>\n",
       "      <td>5</td>\n",
       "      <td>0.923278</td>\n",
       "    </tr>\n",
       "    <tr>\n",
       "      <th>41</th>\n",
       "      <td>None</td>\n",
       "      <td>2</td>\n",
       "      <td>2</td>\n",
       "      <td>0.921243</td>\n",
       "    </tr>\n",
       "    <tr>\n",
       "      <th>29</th>\n",
       "      <td>100</td>\n",
       "      <td>2</td>\n",
       "      <td>2</td>\n",
       "      <td>0.920713</td>\n",
       "    </tr>\n",
       "    <tr>\n",
       "      <th>30</th>\n",
       "      <td>100</td>\n",
       "      <td>2</td>\n",
       "      <td>5</td>\n",
       "      <td>0.920138</td>\n",
       "    </tr>\n",
       "    <tr>\n",
       "      <th>17</th>\n",
       "      <td>50</td>\n",
       "      <td>2</td>\n",
       "      <td>2</td>\n",
       "      <td>0.919961</td>\n",
       "    </tr>\n",
       "  </tbody>\n",
       "</table>\n",
       "</div>"
      ],
      "text/plain": [
       "   param_max_depth param_min_samples_leaf param_min_samples_split  \\\n",
       "25             100                      1                       2   \n",
       "13              50                      1                       2   \n",
       "37            None                      1                       2   \n",
       "14              50                      1                       5   \n",
       "26             100                      1                       5   \n",
       "38            None                      1                       5   \n",
       "41            None                      2                       2   \n",
       "29             100                      2                       2   \n",
       "30             100                      2                       5   \n",
       "17              50                      2                       2   \n",
       "\n",
       "    mean_test_score  \n",
       "25         0.927744  \n",
       "13         0.927390  \n",
       "37         0.925489  \n",
       "14         0.923941  \n",
       "26         0.923410  \n",
       "38         0.923278  \n",
       "41         0.921243  \n",
       "29         0.920713  \n",
       "30         0.920138  \n",
       "17         0.919961  "
      ]
     },
     "execution_count": 43,
     "metadata": {},
     "output_type": "execute_result"
    }
   ],
   "source": [
    "#check the tuning result and print the best parameter\n",
    "result_tuning = pd.DataFrame(model_tuned.cv_results_)\n",
    "print(\"best parameter : \",model_tuned.best_params_)\n",
    "print(\"____________________________________________________________________________\")\n",
    "result_tuning[['param_max_depth','param_min_samples_leaf',\n",
    "               'param_min_samples_split','mean_test_score']].sort_values('mean_test_score',ascending = False).head(10)"
   ]
  },
  {
   "cell_type": "markdown",
   "id": "96b259f9-595f-42cd-b972-3cd6f1a0dc34",
   "metadata": {},
   "source": [
    "By doing hyperparameter tuning of 3 different parameters, the parameter combinations chosen would be changed into 100 for max_depth, 1 for min_sample_leaf, and 2 for min_sample_split"
   ]
  },
  {
   "cell_type": "code",
   "execution_count": 44,
   "id": "a6522e43-c4b4-4a9a-b73a-bb7f5eb665c2",
   "metadata": {},
   "outputs": [
    {
     "name": "stdout",
     "output_type": "stream",
     "text": [
      "              precision    recall  f1-score   support\n",
      "\n",
      "           0       0.94      0.94      0.94      2827\n",
      "           1       0.35      0.34      0.34       272\n",
      "\n",
      "    accuracy                           0.89      3099\n",
      "   macro avg       0.64      0.64      0.64      3099\n",
      "weighted avg       0.88      0.89      0.89      3099\n",
      "\n",
      "Cross Validation 3-Fold score result :\n",
      "[0.89864686 0.94388432 0.94149642]\n"
     ]
    }
   ],
   "source": [
    "#generate classification report revision\n",
    "from sklearn.metrics import classification_report\n",
    "from sklearn.model_selection import cross_val_score\n",
    "model2 = RandomForestClassifier(max_depth = 100, min_samples_leaf = 1, min_samples_split = 2)\n",
    "model2.fit(X_balance_train,Y_balance_train)\n",
    "prediction2 = model2.predict(X_test)\n",
    "score_cv2 = cross_val_score(model2,X_balance_train,Y_balance_train,cv=3)\n",
    "print(classification_report(y_test, prediction2))\n",
    "print(\"Cross Validation 3-Fold score result :\")\n",
    "print(score_cv2)"
   ]
  },
  {
   "cell_type": "markdown",
   "id": "ad5b52ae-c20c-45bb-871c-7d5abe51c82a",
   "metadata": {},
   "source": [
    "Precision still very low,scaling in pipeline is needed"
   ]
  },
  {
   "cell_type": "code",
   "execution_count": 45,
   "id": "e03ba8ec-affe-4795-a70e-0c179d734aaf",
   "metadata": {},
   "outputs": [
    {
     "name": "stdout",
     "output_type": "stream",
     "text": [
      "              precision    recall  f1-score   support\n",
      "\n",
      "           0       0.94      0.94      0.94      2827\n",
      "           1       0.35      0.34      0.35       272\n",
      "\n",
      "    accuracy                           0.89      3099\n",
      "   macro avg       0.65      0.64      0.64      3099\n",
      "weighted avg       0.89      0.89      0.89      3099\n",
      "\n",
      "Cross Validation 3-Fold score result :\n",
      "[0.89864686 0.94494561 0.93963916]\n"
     ]
    }
   ],
   "source": [
    "#Create scaling  & machine learning pipeline using default parameter\n",
    "from sklearn.metrics import classification_report\n",
    "from sklearn.model_selection import cross_val_score\n",
    "from sklearn.preprocessing import StandardScaler\n",
    "from sklearn.pipeline import Pipeline\n",
    "steps = [('scaler', StandardScaler()),\n",
    "        ('clf', RandomForestClassifier())]\n",
    "pipeline = Pipeline(steps)\n",
    "pipeline.fit(X_balance_train,Y_balance_train)\n",
    "prediction3 = pipeline.predict(X_test)\n",
    "score_cv3 = cross_val_score(pipeline,X_balance_train,Y_balance_train,cv=3)\n",
    "print(classification_report(y_test, prediction3))\n",
    "print(\"Cross Validation 3-Fold score result :\")\n",
    "print(score_cv3)"
   ]
  },
  {
   "cell_type": "code",
   "execution_count": 47,
   "id": "8d3afb26-86ef-4a04-87d2-1e95ec053466",
   "metadata": {},
   "outputs": [
    {
     "data": {
      "image/png": "[encoded data removed]",
      "text/plain": [
       "<Figure size 432x288 with 1 Axes>"
      ]
     },
     "metadata": {
      "needs_background": "light"
     },
     "output_type": "display_data"
    }
   ],
   "source": [
    "#check Feature importance to know the possibility of imporoving the model\n",
    "feat_importances = pd.Series(model2.feature_importances_, index=X.columns)\n",
    "feat_importances.nlargest(20).plot(kind='barh')\n",
    "plt.pyplot.show()"
   ]
  },
  {
   "cell_type": "code",
   "execution_count": 48,
   "id": "483077e5-e156-40a7-9484-74bd847953d5",
   "metadata": {},
   "outputs": [
    {
     "data": {
      "text/plain": [
       "rasio_pembayaran                 0.136690\n",
       "total_pemakaian                  0.101196\n",
       "rasio_pembayaran_3bulan          0.089562\n",
       "tagihan                          0.077846\n",
       "persentasi_overlimit             0.072404\n",
       "sisa_tagihan_per_jumlah_kartu    0.055935\n",
       "utilisasi_6bulan                 0.054583\n",
       "rasio_pembayaran_6bulan          0.054136\n",
       "total_pemakaian_per_limit        0.054061\n",
       "utilisasi_3bulan                 0.052075\n",
       "dtype: float64"
      ]
     },
     "execution_count": 48,
     "metadata": {},
     "output_type": "execute_result"
    }
   ],
   "source": [
    "feat_importances.nlargest(10)"
   ]
  },
  {
   "cell_type": "markdown",
   "id": "41b74b6c-7d5a-426e-a522-52387fa51a20",
   "metadata": {},
   "source": [
    "Interpretation of feature importance\n",
    "\n",
    "1. Rasio_pembayaran_3bulan is the most important factor to classify the debtors/customers, Impurity accross all trees in average are reduced by 0.175 due to this variable\n",
    "\n",
    "2. All variables have some degree of importances (>0.02) and thus decided not to be dropped."
   ]
  },
  {
   "cell_type": "code",
   "execution_count": 49,
   "id": "aef8b066-79b4-4664-88c8-70aad9207c54",
   "metadata": {},
   "outputs": [
    {
     "name": "stdout",
     "output_type": "stream",
     "text": [
      "              precision    recall  f1-score   support\n",
      "\n",
      "           0       0.94      0.93      0.93      2827\n",
      "           1       0.32      0.36      0.34       272\n",
      "\n",
      "    accuracy                           0.88      3099\n",
      "   macro avg       0.63      0.64      0.64      3099\n",
      "weighted avg       0.88      0.88      0.88      3099\n",
      "\n",
      "AUC: 0.6446665817016584\n"
     ]
    }
   ],
   "source": [
    "#using 10 Most important variable only for independent variable\n",
    "used = ['rasio_pembayaran','total_pemakaian','rasio_pembayaran_3bulan', 'tagihan','rasio_pembayaran_6bulan',\n",
    "        'sisa_tagihan_per_jumlah_kartu','persentasi_overlimit','utilisasi_6bulan','utilisasi_3bulan','sisa_tagihan_per_limit']\n",
    "X_balance_train_important = X_balance_train[used].copy()\n",
    "X_test_important = X_test[used].copy()\n",
    "steps4 = [('scaler', StandardScaler()),\n",
    "        ('clf', RandomForestClassifier())]\n",
    "pipeline4 = Pipeline(steps4)\n",
    "pipeline4.fit(X_balance_train_important,Y_balance_train)\n",
    "prediction5 = pipeline4.predict(X_test_important)\n",
    "score_cv5 = cross_val_score(pipeline4,X_balance_train_important,Y_balance_train,cv=3)\n",
    "print(classification_report(y_test, prediction5))\n",
    "from sklearn.metrics import roc_auc_score\n",
    "print('AUC:',roc_auc_score(y_test, prediction5))\n"
   ]
  },
  {
   "cell_type": "code",
   "execution_count": 50,
   "id": "e9a7aff7-9e2d-470f-a7be-91f6d0df2d9b",
   "metadata": {},
   "outputs": [
    {
     "name": "stdout",
     "output_type": "stream",
     "text": [
      "AUC: 0.6385198401964253\n"
     ]
    }
   ],
   "source": [
    "#Generate the ROC AUC Result \n",
    "from sklearn.metrics import roc_auc_score\n",
    "print('AUC:',roc_auc_score(y_test, prediction2))"
   ]
  },
  {
   "cell_type": "markdown",
   "id": "13b9d95d-eb52-4b05-b610-c7d13c6817be",
   "metadata": {},
   "source": [
    "ROC AUC Score is 63% and is considered Low"
   ]
  }
 ],
 "metadata": {
  "kernelspec": {
   "display_name": "Python 3",
   "language": "python",
   "name": "python3"
  },
  "language_info": {
   "codemirror_mode": {
    "name": "ipython",
    "version": 3
   },
   "file_extension": ".py",
   "mimetype": "text/x-python",
   "name": "python",
   "nbconvert_exporter": "python",
   "pygments_lexer": "ipython3",
   "version": "3.8.5"
  }
 },
 "nbformat": 4,
 "nbformat_minor": 5
}
